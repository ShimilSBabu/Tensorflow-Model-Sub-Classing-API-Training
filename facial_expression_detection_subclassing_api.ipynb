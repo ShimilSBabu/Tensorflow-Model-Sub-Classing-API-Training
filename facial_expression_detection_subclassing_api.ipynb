{
  "cells": [
    {
      "cell_type": "markdown",
      "metadata": {
        "id": "view-in-github",
        "colab_type": "text"
      },
      "source": [
        "<a href=\"https://colab.research.google.com/github/ShimilSBabu/Tensorflow-Model-Sub-Classing-API-Training/blob/main/facial_expression_detection_subclassing_api.ipynb\" target=\"_parent\"><img src=\"https://colab.research.google.com/assets/colab-badge.svg\" alt=\"Open In Colab\"/></a>"
      ]
    },
    {
      "cell_type": "code",
      "source": [
        "!pip install opendatasets"
      ],
      "metadata": {
        "id": "ec7vbpMrijOE"
      },
      "execution_count": null,
      "outputs": []
    },
    {
      "cell_type": "markdown",
      "source": [
        "# Constants"
      ],
      "metadata": {
        "id": "FdhcWJRB0Gi7"
      }
    },
    {
      "cell_type": "code",
      "source": [
        "dataset_link = \"https://www.kaggle.com/datasets/ahmedmoorsy/facial-expression\"\n",
        "filname = '../content/facial-expression/fer2013/fer2013.csv'\n",
        "label_map = ['Anger', 'Disgust', 'Fear', 'Happy', 'Sad', 'Surprise', 'Neutral']\n",
        "names=['emotion','pixels','usage']"
      ],
      "metadata": {
        "id": "skQjx7XR0I6B"
      },
      "execution_count": null,
      "outputs": []
    },
    {
      "cell_type": "code",
      "execution_count": null,
      "metadata": {
        "_cell_guid": "79c7e3d0-c299-4dcb-8224-4455121ee9b0",
        "_uuid": "d629ff2d2480ee46fbb7e2d37f6b5fab8052498a",
        "id": "lv-eFVyigxhC"
      },
      "outputs": [],
      "source": [
        "import numpy as np\n",
        "import pandas as pd\n",
        "import matplotlib.pyplot as plt\n",
        "import opendatasets as od\n",
        "\n",
        "import tensorflow as tf\n",
        "from tensorflow.keras.models import Model\n",
        "from tensorflow.keras.utils import load_img, img_to_array\n",
        "\n",
        "from sklearn.model_selection import train_test_split\n",
        "\n",
        "import keras\n",
        "from keras.layers import Conv2D, MaxPooling2D, AveragePooling2D, Input, Layer\n",
        "from keras.layers import Dense, Activation, Dropout, Flatten, GlobalAveragePooling2D\n",
        "from keras.preprocessing import image\n",
        "from keras.preprocessing.image import ImageDataGenerator\n",
        "from keras.metrics import categorical_accuracy\n",
        "from keras.models import model_from_json\n",
        "from keras.callbacks import ModelCheckpoint\n",
        "from keras.optimizers import *\n",
        "from keras.layers import BatchNormalization\n",
        "from keras import backend as K"
      ]
    },
    {
      "cell_type": "markdown",
      "source": [
        "# Download the Dataset"
      ],
      "metadata": {
        "id": "ztJqm-Im0gGj"
      }
    },
    {
      "cell_type": "code",
      "source": [
        "od.download(dataset_link)"
      ],
      "metadata": {
        "id": "FLGTJ43Wi_VS"
      },
      "execution_count": null,
      "outputs": []
    },
    {
      "cell_type": "code",
      "execution_count": null,
      "metadata": {
        "_uuid": "87965c894d3b7f3b3dfc66d8c2a60efcc08a370d",
        "id": "9JpV1McJgxhC"
      },
      "outputs": [],
      "source": [
        "# get the data\n",
        "df=pd.read_csv(filname, names=names, na_filter=False)\n",
        "im=df['pixels']\n",
        "df.head(10)"
      ]
    },
    {
      "cell_type": "code",
      "execution_count": null,
      "metadata": {
        "_uuid": "bfde4d91ff367dfa6764202c1b309ea291fb833a",
        "id": "H7V4bzAygxhD"
      },
      "outputs": [],
      "source": [
        "def getData(filname):\n",
        "    # images are 48x48\n",
        "    # N = 35887\n",
        "    Y = []\n",
        "    X = []\n",
        "    first = True\n",
        "    for line in open(filname):\n",
        "        if first:\n",
        "            first = False\n",
        "        else:\n",
        "            row = line.split(',')\n",
        "            Y.append(int(row[0]))\n",
        "            X.append([int(p) for p in row[1].split()])\n",
        "\n",
        "    X, Y = np.array(X) / 255.0, np.array(Y)\n",
        "    return X, Y\n"
      ]
    },
    {
      "cell_type": "code",
      "execution_count": null,
      "metadata": {
        "_uuid": "435d0e06553e3de3fd982e4a4a86c28018ac3913",
        "id": "SWethOGRgxhD"
      },
      "outputs": [],
      "source": [
        "X, Y = getData(filname)\n",
        "num_class = len(set(Y))\n",
        "print(num_class)"
      ]
    },
    {
      "cell_type": "code",
      "execution_count": null,
      "metadata": {
        "_uuid": "f3c6bfb7aaf3c25ba7cdd5621e4d62b9eaa5502e",
        "id": "nc4IHDg2gxhE"
      },
      "outputs": [],
      "source": [
        "# keras with tensorflow backend\n",
        "N, D = X.shape\n",
        "X = X.reshape(N, 48, 48, 1)"
      ]
    },
    {
      "cell_type": "code",
      "execution_count": null,
      "metadata": {
        "_uuid": "be4faef86c3c5635697f10939547edd5c8760308",
        "id": "T9qEfzIFgxhE"
      },
      "outputs": [],
      "source": [
        "X_train, X_test, y_train, y_test = train_test_split(X, Y, test_size=0.1, random_state=0)\n",
        "y_train = (np.arange(num_class) == y_train[:, None]).astype(np.float32)\n",
        "y_test = (np.arange(num_class) == y_test[:, None]).astype(np.float32)"
      ]
    },
    {
      "cell_type": "code",
      "source": [
        "class custom_cnn_block(Model):\n",
        "  def __init__(self, channels, kernel_size = 3, batch_norm = 0, max_pool = 0):\n",
        "    super(custom_cnn_block, self).__init__()\n",
        "    # self.conv_1 = Conv2D(channels, (kernel_size, 1), padding = 'same')\n",
        "    # self.conv_2 = Conv2D(channels, (1, kernel_size), padding = 'same')\n",
        "    self.conv_1 = Conv2D(channels, kernel_size, padding = 'same')\n",
        "    self.conv_2 = Conv2D(channels, kernel_size, padding = 'same')\n",
        "    self.batch_norm_1 = BatchNormalization()\n",
        "    self.maxpooling_1 = MaxPooling2D(pool_size=(2, 2))\n",
        "    self.batch_norm = batch_norm\n",
        "    self.max_pool = max_pool\n",
        "\n",
        "  def call(self, input_tensor, training = False):\n",
        "    x = self.conv_1(input_tensor)\n",
        "    x = self.conv_2(x)\n",
        "\n",
        "    if self.batch_norm:\n",
        "      x = self.batch_norm_1(x, training = training)\n",
        "    if self.max_pool:\n",
        "      x = self.maxpooling_1(x)\n",
        "    \n",
        "    return x"
      ],
      "metadata": {
        "id": "wp7mimSn5MJM"
      },
      "execution_count": null,
      "outputs": []
    },
    {
      "cell_type": "code",
      "source": [
        "class custom_subclassing_model(tf.keras.Model):\n",
        "  def __init__(self, num_classes = 7):\n",
        "    super(custom_subclassing_model, self).__init__()\n",
        "    self.block_1 = custom_cnn_block(64, kernel_size = 5)\n",
        "    self.block_2 = custom_cnn_block(64, kernel_size = 5, batch_norm = 1)\n",
        "    self.block_3 = custom_cnn_block(128, kernel_size = 3)\n",
        "    self.block_4 = custom_cnn_block(128, kernel_size = 3, batch_norm = 1, max_pool = 1)\n",
        "    self.block_5 = custom_cnn_block(256, kernel_size = 3)\n",
        "    self.pool = GlobalAveragePooling2D()\n",
        "    self.dense_1 = Dense(units = 128)\n",
        "    self.classifier = Dense(num_classes)\n",
        "\n",
        "  def call(self, input_tensor, training = False):\n",
        "  \n",
        "    x = self.block_1(input_tensor, training = training)\n",
        "    x = self.block_2(x, training = training)\n",
        "    x = tf.nn.relu(x)\n",
        "    x = self.block_3(x, training = training)\n",
        "    x = self.block_4(x, training = training)\n",
        "    x = tf.nn.relu(x)\n",
        "    x = self.block_5(x, training = training)\n",
        "    x = tf.nn.relu(x)\n",
        "    # x = Dropout(x, 0.3)\n",
        "    x = self.pool(x)\n",
        "    # x = Dropout(x, 0.3)\n",
        "    x = self.dense_1(x)\n",
        "    x = self.classifier(x)\n",
        "    x = tf.nn.softmax(x)\n",
        "    # x = Activation('softmax')(x)\n",
        "\n",
        "    return x"
      ],
      "metadata": {
        "id": "tvuzkgfGid4a"
      },
      "execution_count": null,
      "outputs": []
    },
    {
      "cell_type": "code",
      "source": [
        "model = custom_subclassing_model()\n",
        "model.compile(loss='categorical_crossentropy', metrics=['accuracy'],optimizer='adam')\n",
        "# model.summary()\n"
      ],
      "metadata": {
        "id": "s8s0Hf1_XZ3T"
      },
      "execution_count": null,
      "outputs": []
    },
    {
      "cell_type": "code",
      "source": [
        "path_model='model_filter.h5' # save model at this location after each epoch\n",
        "K.clear_session() # destroys the current graph and builds a new one\n",
        "# model=my_model() # create the model\n",
        "K.set_value(model.optimizer.lr,1e-2) # set the learning rate"
      ],
      "metadata": {
        "id": "4Z4YizSeocdX"
      },
      "execution_count": null,
      "outputs": []
    },
    {
      "cell_type": "code",
      "execution_count": null,
      "metadata": {
        "_uuid": "5004be413385dbdf6c3967d34c59e541095ea667",
        "id": "0VNS1s3EgxhG"
      },
      "outputs": [],
      "source": [
        "# fit the model\n",
        "model.fit(X_train,     \n",
        "            y_train, \n",
        "            batch_size=64, \n",
        "            epochs=35, \n",
        "            )"
      ]
    },
    {
      "cell_type": "code",
      "execution_count": null,
      "metadata": {
        "_uuid": "0c7e2abb2a89f4df0d28de0a49db1f60c84fbcf0",
        "id": "qhWnkhqigxhG"
      },
      "outputs": [],
      "source": [
        "objects = ('angry', 'disgust', 'fear', 'happy', 'sad', 'surprise', 'neutral')\n",
        "y_pos = np.arange(len(objects))\n",
        "print(y_pos)"
      ]
    },
    {
      "cell_type": "code",
      "execution_count": null,
      "metadata": {
        "_uuid": "077d44e8bbb7549a09682eb09c417903bf2fd935",
        "id": "-SLmR34CgxhH"
      },
      "outputs": [],
      "source": [
        "def emotion_analysis(emotions):\n",
        "    objects = ['angry', 'disgust', 'fear', 'happy', 'sad', 'surprise', 'neutral']\n",
        "    y_pos = np.arange(len(objects))\n",
        "    plt.bar(y_pos, emotions, align='center', alpha=0.9)\n",
        "    plt.tick_params(axis='x', which='both', pad=10,width=4,length=10)\n",
        "    plt.xticks(y_pos, objects)\n",
        "    plt.ylabel('percentage')\n",
        "    plt.title('emotion')\n",
        "    \n",
        "plt.show()"
      ]
    },
    {
      "cell_type": "code",
      "execution_count": null,
      "metadata": {
        "_uuid": "241291244491cc1e84a45ecb0da66c1c09a4cd7a",
        "id": "0-Wk3_pngxhH"
      },
      "outputs": [],
      "source": [
        "y_pred=model.predict(X_test)\n",
        "#print(y_pred)\n",
        "y_test.shape"
      ]
    },
    {
      "cell_type": "markdown",
      "metadata": {
        "id": "DDOINWbUgxhI"
      },
      "source": [
        "**Real Time Expression Prediction**"
      ]
    },
    {
      "cell_type": "code",
      "execution_count": null,
      "metadata": {
        "_uuid": "70fc48e66d18c54ba629e625ad8def5ad2d93fa6",
        "id": "ePAuF9dTgxhI"
      },
      "outputs": [],
      "source": [
        "from skimage import io\n",
        "image_path = input('Enter the image path : ')\n",
        "# image_path = '/content/download.jpg'\n",
        "img = load_img(image_path,color_mode = \"grayscale\", grayscale=True, target_size=(48, 48))\n",
        "show_img= load_img(image_path, grayscale=False, target_size=(200, 200))\n",
        "x = img_to_array(img)\n",
        "x = np.expand_dims(x, axis = 0)\n",
        "\n",
        "x /= 255\n",
        "\n",
        "custom = model.predict(x)\n",
        "#print(custom[0])\n",
        "emotion_analysis(custom[0])\n",
        "\n",
        "x = np.array(x, 'float32')\n",
        "x = x.reshape([48, 48]);\n",
        "\n",
        "plt.gray()\n",
        "plt.imshow(show_img)\n",
        "plt.show()\n",
        "\n",
        "m=0.000000000000000000001\n",
        "a=custom[0]\n",
        "for i in range(0,len(a)):\n",
        "    if a[i]>m:\n",
        "        m=a[i]\n",
        "        ind=i\n",
        "        \n",
        "print('Expression Prediction:',objects[ind])\n",
        "        "
      ]
    }
  ],
  "metadata": {
    "kernelspec": {
      "display_name": "Python 3",
      "language": "python",
      "name": "python3"
    },
    "language_info": {
      "codemirror_mode": {
        "name": "ipython",
        "version": 3
      },
      "file_extension": ".py",
      "mimetype": "text/x-python",
      "name": "python",
      "nbconvert_exporter": "python",
      "pygments_lexer": "ipython3",
      "version": "3.6.6"
    },
    "colab": {
      "provenance": [],
      "include_colab_link": true
    },
    "accelerator": "GPU",
    "gpuClass": "standard"
  },
  "nbformat": 4,
  "nbformat_minor": 0
}