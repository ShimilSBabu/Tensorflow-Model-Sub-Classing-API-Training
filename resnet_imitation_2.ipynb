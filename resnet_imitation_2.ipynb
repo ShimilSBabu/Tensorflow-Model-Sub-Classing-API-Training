{
  "nbformat": 4,
  "nbformat_minor": 0,
  "metadata": {
    "colab": {
      "provenance": [],
      "authorship_tag": "ABX9TyNFjaUiIpk69jm01d+6ADlN",
      "include_colab_link": true
    },
    "kernelspec": {
      "name": "python3",
      "display_name": "Python 3"
    },
    "language_info": {
      "name": "python"
    },
    "accelerator": "GPU",
    "gpuClass": "standard"
  },
  "cells": [
    {
      "cell_type": "markdown",
      "metadata": {
        "id": "view-in-github",
        "colab_type": "text"
      },
      "source": [
        "<a href=\"https://colab.research.google.com/github/ShimilSBabu/Tensorflow-Model-Sub-Classing-API-Training/blob/main/resnet_imitation_2.ipynb\" target=\"_parent\"><img src=\"https://colab.research.google.com/assets/colab-badge.svg\" alt=\"Open In Colab\"/></a>"
      ]
    },
    {
      "cell_type": "code",
      "execution_count": 19,
      "metadata": {
        "id": "DL-C2tmgQw5Q"
      },
      "outputs": [],
      "source": [
        "import tensorflow as tf\n",
        "import tensorflow_datasets as tfds\n",
        "from tensorflow.keras.layers import Layer, Conv2D, BatchNormalization, Activation, Add, MaxPool2D, GlobalAveragePooling2D, Dense\n",
        "from tensorflow.keras import Model"
      ]
    },
    {
      "cell_type": "code",
      "source": [
        "class conv_block(Model):\n",
        "  def __init__(self, filters, kernel_size = 3):\n",
        "    super(conv_block, self).__init__()\n",
        "    \n",
        "    self.conv = Conv2D(filters, kernel_size, padding = 'same')\n",
        "    self.batch_norm = BatchNormalization()\n",
        "\n",
        "  def call(self, input_tensor, training = False):\n",
        "    \n",
        "    x = self.conv(input_tensor)\n",
        "    x = self.batch_norm(x, training = training)\n",
        "    x = tf.nn.relu(x)\n",
        "\n",
        "    return x"
      ],
      "metadata": {
        "id": "9cTYoXj_SGYD"
      },
      "execution_count": 12,
      "outputs": []
    },
    {
      "cell_type": "code",
      "source": [
        "class ResBlock(Layer):\n",
        "  def __init__(self, channels):\n",
        "    super(ResBlock, self).__init__()\n",
        "    self.conv_1 = conv_block(channels[0])\n",
        "    self.conv_2 = conv_block(channels[1])\n",
        "    self.conv_3 = conv_block(channels[2])\n",
        "    self.pooling = MaxPool2D()\n",
        "    self.identity_mapping = Conv2D(channels[1], 3, padding = 'same')\n",
        "\n",
        "  def call(self, input_tensor, training = False):\n",
        "    x = self.conv_1(input_tensor, training = training)\n",
        "    x = self.conv_2(x, training = training)\n",
        "    x = self.conv_3(\n",
        "        x + self.identity_mapping(input_tensor), training = training        \n",
        "    )\n",
        "\n",
        "    return self.pooling(x)\n"
      ],
      "metadata": {
        "id": "MCzffoKmSGNc"
      },
      "execution_count": 14,
      "outputs": []
    },
    {
      "cell_type": "code",
      "source": [
        "class resnet_imitation(Model):\n",
        "  def __init__(self, num_classes = 10):\n",
        "    super(resnet_imitation, self).__init__()\n",
        "    self.block_1 = ResBlock([32, 32, 64])\n",
        "    self.block_2 = ResBlock([128, 128, 256])\n",
        "    self.block_3 = ResBlock([128 ,256 , 512])\n",
        "    self.pool = GlobalAveragePooling2D()\n",
        "    self.classifier = Dense(num_classes)\n",
        "\n",
        "  def call(self, input_tensor, training = False):\n",
        "    x = self.block_1(input_tensor, training = training)\n",
        "    x = self.block_2(x, training = training)\n",
        "    x = self.block_3(x, training = training)\n",
        "    x = self.pool(x)\n",
        "    \n",
        "    return self.classifier(x)\n",
        "\n",
        "  def model(self):\n",
        "    x = tf.keras.Input(shape = (28, 28, 1))\n",
        "    return Model(inputs = [x], outputs = self.call(x))"
      ],
      "metadata": {
        "id": "qi6d5mV4SGVC"
      },
      "execution_count": 27,
      "outputs": []
    },
    {
      "cell_type": "code",
      "source": [
        "model = resnet_imitation(num_classes = 10)"
      ],
      "metadata": {
        "id": "yuCvS-BeSGLC"
      },
      "execution_count": 28,
      "outputs": []
    },
    {
      "cell_type": "code",
      "source": [
        "model.compile(\n",
        "    optimizer = tf.keras.optimizers.Adam(),\n",
        "    loss = tf.keras.losses.SparseCategoricalCrossentropy(from_logits = True),\n",
        "    metrics = ['Accuracy']\n",
        ")"
      ],
      "metadata": {
        "id": "2AdQhSF_SGIs"
      },
      "execution_count": 29,
      "outputs": []
    },
    {
      "cell_type": "code",
      "source": [
        "def preprocess(features):\n",
        "  return tf.cast(features['image'], tf.float32) / 255., features['label']"
      ],
      "metadata": {
        "id": "68D7pJ7dcEyO"
      },
      "execution_count": 21,
      "outputs": []
    },
    {
      "cell_type": "code",
      "source": [
        "dataset = tfds.load('mnist', split = tfds.Split.TRAIN)\n",
        "dataset = dataset.map(preprocess).batch(32)"
      ],
      "metadata": {
        "id": "loVBpzY5SF2q"
      },
      "execution_count": null,
      "outputs": []
    },
    {
      "cell_type": "code",
      "source": [
        "model.fit(dataset, epochs = 20)"
      ],
      "metadata": {
        "id": "SSe0sHSycOx0"
      },
      "execution_count": null,
      "outputs": []
    },
    {
      "cell_type": "code",
      "source": [
        "# model.fit(x_train, y_train, batch_siz = 64, epochs = 20, verbose = 2)"
      ],
      "metadata": {
        "id": "i5CXmxWuSGGB"
      },
      "execution_count": null,
      "outputs": []
    },
    {
      "cell_type": "code",
      "source": [
        "model.model().summary()"
      ],
      "metadata": {
        "colab": {
          "base_uri": "https://localhost:8080/"
        },
        "id": "FMC8BPU6dPor",
        "outputId": "01a41bbf-36c8-40cd-e37d-a25e559844ff"
      },
      "execution_count": 30,
      "outputs": [
        {
          "output_type": "stream",
          "name": "stdout",
          "text": [
            "Model: \"model\"\n",
            "_________________________________________________________________\n",
            " Layer (type)                Output Shape              Param #   \n",
            "=================================================================\n",
            " input_1 (InputLayer)        [(None, 28, 28, 1)]       0         \n",
            "                                                                 \n",
            " res_block_9 (ResBlock)      (None, 14, 14, 64)        28896     \n",
            "                                                                 \n",
            " res_block_10 (ResBlock)     (None, 7, 7, 256)         592512    \n",
            "                                                                 \n",
            " res_block_11 (ResBlock)     (None, 3, 3, 512)         2364032   \n",
            "                                                                 \n",
            " global_average_pooling2d_2   (None, 512)              0         \n",
            " (GlobalAveragePooling2D)                                        \n",
            "                                                                 \n",
            " dense_2 (Dense)             (None, 10)                5130      \n",
            "                                                                 \n",
            "=================================================================\n",
            "Total params: 2,990,570\n",
            "Trainable params: 2,987,498\n",
            "Non-trainable params: 3,072\n",
            "_________________________________________________________________\n"
          ]
        }
      ]
    }
  ]
}